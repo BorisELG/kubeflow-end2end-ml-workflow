{
 "cells": [
  {
   "cell_type": "markdown",
   "metadata": {},
   "source": [
    "## End-to-end Kubeflow Pipeline in Jupyter Notebook\n",
    "\n",
    "**Steps in the pipeline**\n",
    "\n",
    "- Run hyper-parameter tuning\n",
    "- Extract optimal hyper-parameter\n",
    "- Train using optimal hyper-parameter\n",
    "- Serve the trained model"
   ]
  },
  {
   "cell_type": "markdown",
   "metadata": {},
   "source": [
    "### Install libraries"
   ]
  },
  {
   "cell_type": "code",
   "execution_count": null,
   "metadata": {},
   "outputs": [],
   "source": [
    "%%writefile requirements.txt\n",
    "tensorflow==2.1.0\n",
    "tensorflow-datasets==2.1.0\n",
    "https://storage.googleapis.com/ml-pipeline/release/latest/kfp.tar.gz\n",
    "pillow"
   ]
  },
  {
   "cell_type": "code",
   "execution_count": null,
   "metadata": {},
   "outputs": [],
   "source": [
    "!pip3 install -r requirements.txt --user"
   ]
  },
  {
   "cell_type": "code",
   "execution_count": null,
   "metadata": {},
   "outputs": [],
   "source": [
    "# restart kernel\n",
    "from IPython.display import display_html\n",
    "def restartkernel() :\n",
    "    display_html(\"<script>Jupyter.notebook.kernel.restart()</script>\",raw=True)\n",
    "\n",
    "restartkernel() "
   ]
  },
  {
   "cell_type": "markdown",
   "metadata": {},
   "source": [
    "### Import Libraries"
   ]
  },
  {
   "cell_type": "code",
   "execution_count": 1,
   "metadata": {},
   "outputs": [],
   "source": [
    "import kfp\n",
    "import kfp.dsl as dsl\n",
    "import kfp.gcp as gcp\n",
    "from kfp import components\n",
    "import json\n",
    "from string import Template"
   ]
  },
  {
   "cell_type": "markdown",
   "metadata": {},
   "source": [
    "### Define Pipeline"
   ]
  },
  {
   "cell_type": "markdown",
   "metadata": {},
   "source": [
    "Set the values of `PROJECT_ID`, `BUCKET` and execute."
   ]
  },
  {
   "cell_type": "code",
   "execution_count": 2,
   "metadata": {},
   "outputs": [],
   "source": [
    "def convert_result(result) -> str:\n",
    "    import json\n",
    "    hyperparameters = json.loads(result)\n",
    "    args = []\n",
    "    for param in hyperparameters:\n",
    "        args.append(\"{0}={1}\".format(param[\"name\"], param[\"value\"]))\n",
    "    # join args to create argument string\n",
    "    return \" \".join(args)\n",
    "\n",
    "\n",
    "@dsl.pipeline(\n",
    "    name=\"Fashion-MNIST\", description=\"A pipeline to train and serve the Fashion MNIST example.\"\n",
    ")\n",
    "def fashion_mnist_pipeline(\n",
    "    name=\"fashion-mnist-{{workflow.uid}}\",\n",
    "    katib_namespace=\"kubeflow-akumar340\",\n",
    "    goal=0.9,\n",
    "    max_trial_count=3,\n",
    "    parallel_trial_count=3,\n",
    "    training_steps=5,\n",
    "    training_image=\"gcr.io/<GCP_PROJECT_ID>/kubeflow-fashion-mnist-train-keras:latest\",\n",
    "    training_namespace=\"kubeflow\",\n",
    "    export_dir=\"gs://<GCS_BUCKET_NAME>/export/004\",\n",
    "    serving_name=\"fashion-mnist-notebook\",\n",
    "    serving_namespace=\"kubeflow\",\n",
    "    serving_export_dir=\"gs://<GCS_BUCKET_NAME>/export\",\n",
    "    transformer_image=\"gcr.io/<GCP_PROJECT_ID>/fashion-mnist-processing:latest\"\n",
    "\n",
    "):\n",
    "\n",
    "\n",
    "    ### Step 1: Hyper-parameter tuning with Katib\n",
    "    objectiveConfig = {\n",
    "      \"type\": \"maximize\",\n",
    "      \"goal\": goal,\n",
    "      \"objectiveMetricName\": \"val_accuracy\",\n",
    "      \"additionalMetricNames\" : [\"loss\", \"accuracy\"]\n",
    "    }\n",
    "    algorithmConfig = {\"algorithmName\" : \"random\"}\n",
    "    metricsCollectorSpec = {\n",
    "      \"collector\": {\n",
    "        \"kind\": \"StdOut\"\n",
    "      }\n",
    "    }\n",
    "    parameters = [\n",
    "      {\"name\": \"--tf-learning-rate\", \"parameterType\": \"double\", \"feasibleSpace\": {\"min\": \"0.001\",\"max\": \"0.05\"}},\n",
    "    ]\n",
    "    \n",
    "    rawTemplate = {\n",
    "        \"apiVersion\": \"batch/v1\",\n",
    "        \"kind\": \"Job\",\n",
    "        \"metadata\": {\n",
    "            \"name\": \"{{.Trial}}\",\n",
    "            \"namespace\": \"{{.NameSpace}}\"\n",
    "        },\n",
    "        \"spec\": {\n",
    "            \"template\": {\n",
    "                \"spec\": {\n",
    "                    \"restartPolicy\": \"Never\",\n",
    "                    \"containers\": [\n",
    "                        {\"name\": \"{{.Trial}}\",\n",
    "                         \"image\": str(training_image),\n",
    "                         \"imagePullPolicy\": \"Always\",\n",
    "                         \"command\": [\n",
    "                             \"python /opt/model.py --tf-mode=local {{- with .HyperParameters}} {{- range .}} {{.Name}}={{.Value}} {{- end}} {{- end}}\"\n",
    "                         ]\n",
    "                         }\n",
    "                    ]\n",
    "                }\n",
    "            }\n",
    "        }\n",
    "    }\n",
    "\n",
    "    trialTemplate = {\n",
    "        \"goTemplate\": {\n",
    "            \"rawTemplate\": json.dumps(rawTemplate)\n",
    "        }\n",
    "    }\n",
    "\n",
    "\n",
    "    katib_experiment_launcher_op = components.load_component_from_url(\n",
    "        'https://raw.githubusercontent.com/kubeflow/pipelines/master/components/kubeflow/katib-launcher/component.yaml')\n",
    "    katib_op = katib_experiment_launcher_op(\n",
    "        experiment_name=name,\n",
    "        experiment_namespace=katib_namespace,\n",
    "        parallel_trial_count=parallel_trial_count,\n",
    "        max_trial_count=max_trial_count,\n",
    "        objective=str(objectiveConfig),\n",
    "        algorithm=str(algorithmConfig),\n",
    "        trial_template=str(trialTemplate),\n",
    "        parameters=str(parameters),\n",
    "        metrics_collector=str(metricsCollectorSpec),\n",
    "        delete_finished_experiment=False)\n",
    "    \n",
    "    ### Step 2 : convert the optimized result to extract optimal hyperparameters\n",
    "    \n",
    "    convert_op = components.func_to_container_op(convert_result)\n",
    "    op2 = convert_op(katib_op.output)\n",
    "\n",
    "    ## Step 3 : training\n",
    "    training_template = Template(\"\"\"\n",
    "                                    {\n",
    "                                        \"apiVersion\": \"kubeflow.org/v1\",\n",
    "                                        \"kind\": \"TFJob\",\n",
    "                                        \"metadata\": {\n",
    "                                            \"generateName\": \"tfjob\",\n",
    "                                            \"name\": \"$name\",\n",
    "                                            \"namespace\": \"$namespace\"\n",
    "                                        },\n",
    "                                        \"spec\": {\n",
    "                                            \"tfReplicaSpecs\": {\n",
    "                                            \"Chief\": {\n",
    "                                                \"replicas\": 1,\n",
    "                                                \"restartPolicy\": \"OnFailure\",\n",
    "                                                \"template\": {\n",
    "                                                \"spec\": {\n",
    "                                                    \"containers\": [\n",
    "                                                    {\n",
    "                                                        \"name\": \"tensorflow\",\n",
    "                                                        \"image\": \"$image\",\n",
    "                                                        \"command\": [\n",
    "                                                        \"python\",\n",
    "                                                        \"/opt/model.py\",\n",
    "                                                        \"--tf-export-dir=$export\",\n",
    "                                                        \"--tf-mode=gcs\",\n",
    "                                                        \"--tf-train-steps=$training_steps\",\n",
    "                                                        \"$args\"\n",
    "                                                        ],\n",
    "                                                        \"env\": [\n",
    "                                                        {\n",
    "                                                            \"name\": \"GOOGLE_APPLICATION_CREDENTIALS\",\n",
    "                                                            \"value\": \"/var/secrets/user-gcp-sa.json\"\n",
    "                                                        }\n",
    "                                                        ],\n",
    "                                                        \"volumeMounts\": [\n",
    "                                                        {\n",
    "                                                            \"name\": \"sa\",\n",
    "                                                            \"mountPath\": \"/var/secrets\",\n",
    "                                                            \"readOnly\": true\n",
    "                                                        }\n",
    "                                                        ]\n",
    "                                                    }\n",
    "                                                    ],\n",
    "                                                    \"volumes\": [\n",
    "                                                    {\n",
    "                                                        \"name\": \"sa\",\n",
    "                                                        \"secret\": {\n",
    "                                                        \"secretName\": \"user-gcp-sa\"\n",
    "                                                        }\n",
    "                                                    }\n",
    "                                                    ]\n",
    "                                                }\n",
    "                                                }\n",
    "                                            },\n",
    "                                            \"Worker\": {\n",
    "                                                \"replicas\": 2,\n",
    "                                                \"restartPolicy\": \"OnFailure\",\n",
    "                                                \"template\": {\n",
    "                                                \"spec\": {\n",
    "                                                    \"containers\": [\n",
    "                                                    {\n",
    "                                                        \"name\": \"tensorflow\",\n",
    "                                                        \"image\": \"$image\",\n",
    "                                                        \"command\": [\n",
    "                                                        \"python\",\n",
    "                                                        \"/opt/model.py\",\n",
    "                                                        \"--tf-export-dir=$export\",\n",
    "                                                        \"--tf-mode=gcs\",\n",
    "                                                        \"--tf-train-steps=$training_steps\",\n",
    "                                                        \"$args\"\n",
    "                                                        ],\n",
    "                                                        \"env\": [\n",
    "                                                        {\n",
    "                                                            \"name\": \"GOOGLE_APPLICATION_CREDENTIALS\",\n",
    "                                                            \"value\": \"/var/secrets/user-gcp-sa.json\"\n",
    "                                                        }\n",
    "                                                        ],\n",
    "                                                        \"volumeMounts\": [\n",
    "                                                        {\n",
    "                                                            \"name\": \"sa\",\n",
    "                                                            \"mountPath\": \"/var/secrets\",\n",
    "                                                            \"readOnly\": true\n",
    "                                                        }\n",
    "                                                        ]\n",
    "                                                    }\n",
    "                                                    ],\n",
    "                                                    \"volumes\": [\n",
    "                                                    {\n",
    "                                                        \"name\": \"sa\",\n",
    "                                                        \"secret\": {\n",
    "                                                        \"secretName\": \"user-gcp-sa\"\n",
    "                                                        }\n",
    "                                                    }\n",
    "                                                    ]\n",
    "                                                }\n",
    "                                                }\n",
    "                                            }\n",
    "                                            }\n",
    "                                        }\n",
    "                                        }\n",
    "                                    \"\"\")\n",
    "\n",
    "    trainingjson = training_template.substitute({ 'name': str(name),\n",
    "                                        'namespace': str(training_namespace),\n",
    "                                        'image': str(training_image),\n",
    "                                        'export': str(export_dir),\n",
    "                                        'training_steps': training_steps,\n",
    "                                        'args': op2.output})\n",
    "\n",
    "    trainingdeployment = json.loads(trainingjson)\n",
    "\n",
    "    train = dsl.ResourceOp(\n",
    "        name=\"train\",\n",
    "        k8s_resource=trainingdeployment,\n",
    "        action=\"apply\",\n",
    "        success_condition=\"status.replicaStatuses.Worker.succeeded==2,status.replicaStatuses.Chief.succeeded==1\"\n",
    "    )\n",
    "    \n",
    "    ### Step 4: serving model\n",
    "    kfserving_template = Template(\"\"\"\n",
    "                                    {\n",
    "                                      \"apiVersion\": \"serving.kubeflow.org/v1alpha2\",\n",
    "                                      \"kind\": \"InferenceService\",\n",
    "                                      \"metadata\": {\n",
    "                                        \"labels\": {\n",
    "                                          \"controller-tools.k8s.io\": \"1.0\"\n",
    "                                        },\n",
    "                                        \"name\": \"$name\",\n",
    "                                        \"namespace\": \"$namespace\"\n",
    "                                      },\n",
    "                                      \"spec\": {\n",
    "                                        \"default\": {\n",
    "                                          \"predictor\": {\n",
    "                                            \"minReplicas\": 1,\n",
    "                                            \"serviceAccountName\": \"kf-user\",\n",
    "                                            \"tensorflow\": {\n",
    "                                              \"storageUri\": \"$bucket\"\n",
    "                                            }\n",
    "                                          },\n",
    "                                          \"transformer\": {\n",
    "                                            \"serviceAccountName\": \"kf-user\",\n",
    "                                            \"minReplicas\": 1,\n",
    "                                            \"custom\": {\n",
    "                                              \"container\": {\n",
    "                                                \"image\": \"$transformer\",\n",
    "                                                \"name\": \"user-container\",\n",
    "                                                \"imagePullPolicy\": \"Always\"\n",
    "                                              }\n",
    "                                            }\n",
    "                                          }\n",
    "                                        }\n",
    "                                      }\n",
    "                                    }\n",
    "                                \"\"\")\n",
    "\n",
    "    kfservingjson = kfserving_template.substitute({ 'name': str(serving_name),\n",
    "                                'namespace': str(serving_namespace),\n",
    "                                'bucket': str(serving_export_dir),\n",
    "                                'transformer': str(transformer_image)})\n",
    "\n",
    "    kfservingdeployment = json.loads(kfservingjson)\n",
    "\n",
    "    serve = dsl.ResourceOp(\n",
    "        name=\"serve\",\n",
    "        k8s_resource=kfservingdeployment,\n",
    "        action=\"apply\",\n",
    "        success_condition=\"status.url\"\n",
    "    )\n",
    "    serve.after(train)\n"
   ]
  },
  {
   "cell_type": "markdown",
   "metadata": {},
   "source": [
    "### Create pipeline and experiment"
   ]
  },
  {
   "cell_type": "code",
   "execution_count": 3,
   "metadata": {},
   "outputs": [
    {
     "name": "stderr",
     "output_type": "stream",
     "text": [
      "/home/jovyan/.local/lib/python3.6/site-packages/kfp/components/_data_passing.py:168: UserWarning: Missing type name was inferred as \"Float\" based on the value \"0.9\".\n",
      "  warnings.warn('Missing type name was inferred as \"{}\" based on the value \"{}\".'.format(type_name, str(value)))\n",
      "/home/jovyan/.local/lib/python3.6/site-packages/kfp/components/_data_passing.py:168: UserWarning: Missing type name was inferred as \"Integer\" based on the value \"3\".\n",
      "  warnings.warn('Missing type name was inferred as \"{}\" based on the value \"{}\".'.format(type_name, str(value)))\n",
      "/home/jovyan/.local/lib/python3.6/site-packages/kfp/components/_data_passing.py:168: UserWarning: Missing type name was inferred as \"Integer\" based on the value \"5\".\n",
      "  warnings.warn('Missing type name was inferred as \"{}\" based on the value \"{}\".'.format(type_name, str(value)))\n",
      "/home/jovyan/.local/lib/python3.6/site-packages/kfp/components/_data_passing.py:189: UserWarning: There are no registered serializers from type \"bool\" to type \"Bool\", so the value will be serializers as string \"False\".\n",
      "  serialized_value),\n"
     ]
    },
    {
     "data": {
      "text/html": [
       "Experiment link <a href=\"/pipeline/#/experiments/details/304105c3-a6c6-4ddd-b1e9-2237b5b2f35d\" target=\"_blank\" >here</a>"
      ],
      "text/plain": [
       "<IPython.core.display.HTML object>"
      ]
     },
     "metadata": {},
     "output_type": "display_data"
    },
    {
     "data": {
      "text/html": [
       "Run link <a href=\"/pipeline/#/runs/details/c3f1e92a-6f9e-4be8-8fa6-b5fc6328a0bf\" target=\"_blank\" >here</a>"
      ],
      "text/plain": [
       "<IPython.core.display.HTML object>"
      ]
     },
     "metadata": {},
     "output_type": "display_data"
    }
   ],
   "source": [
    "pipeline = kfp.Client().create_run_from_pipeline_func(fashion_mnist_pipeline, arguments={})"
   ]
  },
  {
   "cell_type": "markdown",
   "metadata": {},
   "source": [
    "### Test Predictions"
   ]
  },
  {
   "cell_type": "code",
   "execution_count": 4,
   "metadata": {},
   "outputs": [],
   "source": [
    "from __future__ import absolute_import, division, print_function, unicode_literals\n",
    "import tensorflow_datasets as tfds\n",
    "import tensorflow as tf\n",
    "import numpy as np\n",
    "import json\n",
    "import base64\n",
    "from tensorflow.keras.preprocessing.image import save_img, img_to_array\n",
    "import requests\n",
    "import matplotlib.pyplot as plt\n",
    "import matplotlib.image as mpimg\n",
    "tfds.disable_progress_bar()\n"
   ]
  },
  {
   "cell_type": "markdown",
   "metadata": {},
   "source": [
    "#### Create sample images"
   ]
  },
  {
   "cell_type": "code",
   "execution_count": 7,
   "metadata": {},
   "outputs": [
    {
     "name": "stdout",
     "output_type": "stream",
     "text": [
      "['Dress', 'Ankle boot', 'Sneaker', 'Shirt', 'Dress']\n"
     ]
    }
   ],
   "source": [
    "ds_train = tfds.load(name=\"fashion_mnist:1.0.0\", split=\"train\")\n",
    "\n",
    "NUM_EXAMPLES=5\n",
    "samples=[]\n",
    "\n",
    "count=0\n",
    "labels=[]\n",
    "class_names = ['T-shirt/top', 'Trouser', 'Pullover', 'Dress', 'Coat',\n",
    "               'Sandal',      'Shirt',   'Sneaker',  'Bag',   'Ankle boot']\n",
    "\n",
    "for row in ds_train.take(NUM_EXAMPLE):\n",
    "    image, label = row[\"image\"], row[\"label\"]\n",
    "    \n",
    "    # preprocessing\n",
    "    image = image.numpy() #/ 255.0\n",
    "    image = image.reshape(28, 28, 1)\n",
    "    count += 1\n",
    "    save_img('fashion_mnist_{0}.jpg'.format(count),image)\n",
    "    labels.append(class_names[label])\n",
    "\n",
    "print(labels)"
   ]
  },
  {
   "cell_type": "markdown",
   "metadata": {},
   "source": [
    "#### Test predictions of images"
   ]
  },
  {
   "cell_type": "code",
   "execution_count": 8,
   "metadata": {},
   "outputs": [
    {
     "name": "stdout",
     "output_type": "stream",
     "text": [
      "Acutal label: Dress, Predicted label: Trouser\n"
     ]
    },
    {
     "data": {
      "image/png": "[encoded data removed]",
      "text/plain": [
       "<Figure size 72x72 with 1 Axes>"
      ]
     },
     "metadata": {
      "needs_background": "light"
     },
     "output_type": "display_data"
    },
    {
     "name": "stdout",
     "output_type": "stream",
     "text": [
      "Acutal label: Ankle boot, Predicted label: Ankle boot\n"
     ]
    },
    {
     "data": {
      "image/png": "[encoded data removed]",
      "text/plain": [
       "<Figure size 72x72 with 1 Axes>"
      ]
     },
     "metadata": {
      "needs_background": "light"
     },
     "output_type": "display_data"
    },
    {
     "name": "stdout",
     "output_type": "stream",
     "text": [
      "Acutal label: Sneaker, Predicted label: Sneaker\n"
     ]
    },
    {
     "data": {
      "image/png": "[encoded data removed]",
      "text/plain": [
       "<Figure size 72x72 with 1 Axes>"
      ]
     },
     "metadata": {
      "needs_background": "light"
     },
     "output_type": "display_data"
    },
    {
     "name": "stdout",
     "output_type": "stream",
     "text": [
      "Acutal label: Shirt, Predicted label: Shirt\n"
     ]
    },
    {
     "data": {
      "image/png": "[encoded data removed]",
      "text/plain": [
       "<Figure size 72x72 with 1 Axes>"
      ]
     },
     "metadata": {
      "needs_background": "light"
     },
     "output_type": "display_data"
    },
    {
     "name": "stdout",
     "output_type": "stream",
     "text": [
      "Acutal label: Dress, Predicted label: Dress\n"
     ]
    },
    {
     "data": {
      "image/png": "[encoded data removed]",
      "text/plain": [
       "<Figure size 72x72 with 1 Axes>"
      ]
     },
     "metadata": {
      "needs_background": "light"
     },
     "output_type": "display_data"
    }
   ],
   "source": [
    "for index in range(NUM_EXAMPLES):\n",
    "    data = None\n",
    "    # read image\n",
    "    img_array = None\n",
    "    with open(\"fashion_mnist_{0}.jpg\".format(index + 1), \"rb\") as image_file:\n",
    "        encoded_bytes = base64.b64encode(image_file.read())\n",
    "        # result: string (in utf-8)\n",
    "        encoded_string = encoded_bytes.decode('utf-8')\n",
    "        samples.append(encoded_string)\n",
    "        data = json.dumps({\"instances\": [encoded_string]})\n",
    "        \n",
    "    \n",
    "    # make predictions\n",
    "    serving_name = \"fashion-mnist-notebook\"\n",
    "    # Get cluster_ip : echo $(kubectl -n istio-system get service kfserving-ingressgateway -o jsonpath='{.status.loadBalancer.ingress[0].ip}')\n",
    "    cluster_ip = \"104.197.120.32\"\n",
    "\n",
    "    # set header\n",
    "    headers={\"Host\": \"{0}.kubeflow.example.com\".format(serving_name)}\n",
    "    \n",
    "    # make post request and send data for predictions\n",
    "    response = requests.post(\"http://{0}/v1/models/{1}:predict\".format(cluster_ip, serving_name), \n",
    "                             data = data, \n",
    "                             headers = headers)\n",
    "    predicted_label = response.json()['predictions'][0]\n",
    "    actual_label = labels[index]\n",
    "    # print predictions\n",
    "    print('Acutal label: {0}, Predicted label: {1}'.format(actual_label, predicted_label))\n",
    "    \n",
    "    # display image \n",
    "    img = mpimg.imread(\"fashion_mnist_{0}.jpg\".format(index + 1))\n",
    "    plt.figure(figsize=(1,1))\n",
    "    imgplot = plt.imshow(img, cmap=plt.cm.binary)\n",
    "    plt.show()\n",
    "  "
   ]
  },
  {
   "cell_type": "code",
   "execution_count": null,
   "metadata": {},
   "outputs": [],
   "source": []
  }
 ],
 "metadata": {
  "kernelspec": {
   "display_name": "Python 3",
   "language": "python",
   "name": "python3"
  },
  "language_info": {
   "codemirror_mode": {
    "name": "ipython",
    "version": 3
   },
   "file_extension": ".py",
   "mimetype": "text/x-python",
   "name": "python",
   "nbconvert_exporter": "python",
   "pygments_lexer": "ipython3",
   "version": "3.6.9"
  }
 },
 "nbformat": 4,
 "nbformat_minor": 4
}
